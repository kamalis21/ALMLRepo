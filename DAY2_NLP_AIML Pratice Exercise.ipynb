{
 "cells": [
  {
   "cell_type": "code",
   "execution_count": 10,
   "id": "ff9c3350",
   "metadata": {},
   "outputs": [
    {
     "name": "stdout",
     "output_type": "stream",
     "text": [
      "Columns present in the dataset:\n",
      "Index(['publish_date', 'headline_text'], dtype='object')\n",
      "\n",
      "Possible columns for categories:\n",
      "publish_date 6882\n",
      "headline_text 1213004\n"
     ]
    }
   ],
   "source": [
    "import pandas as pd\n",
    "\n",
    "# Load the dataset\n",
    "data = pd.read_csv(\"C:\\\\Users\\\\hp\\\\Documents\\\\abcnews-date-text.csv\")\n",
    "\n",
    "# Print column names and unique values\n",
    "print(\"Columns present in the dataset:\")\n",
    "print(data.columns)\n",
    "\n",
    "# Identify the correct column for categories\n",
    "print(\"\\nPossible columns for categories:\")\n",
    "for column in data.columns:\n",
    "    print(column, data[column].nunique())\n",
    "\n",
    "# You can manually inspect the output and identify the correct column for categories.\n"
   ]
  },
  {
   "cell_type": "code",
   "execution_count": 12,
   "id": "03481a9c",
   "metadata": {},
   "outputs": [
    {
     "name": "stdout",
     "output_type": "stream",
     "text": [
      "Categories present in the dataset:\n",
      "[1970]\n",
      "\n",
      "Distribution of articles across different topics:\n",
      "category\n",
      "1970    1244184\n",
      "Name: count, dtype: int64\n",
      "\n",
      "Accuracy using BoW with unigrams: 1.0\n",
      "Accuracy using BoW with bigrams: 1.0\n",
      "Accuracy using TF-IDF: 1.0\n",
      "\n",
      "Insights and Recommendations:\n",
      "1. Bag-of-Words (BoW) with unigrams and bigrams:\n",
      "   - BoW with unigrams accuracy: 1.0\n",
      "   - BoW with bigrams accuracy: 1.0\n",
      "\n",
      "2. TF-IDF:\n",
      "   - TF-IDF accuracy: 1.0\n",
      "\n",
      "3. Recommendations:\n",
      "   - Depending on dataset characteristics, consider a combination of techniques.\n",
      "   - Experiment with different feature engineering strategies.\n",
      "   - Regularly update the model with new data to maintain relevance and accuracy.\n"
     ]
    }
   ],
   "source": [
    "import pandas as pd\n",
    "from sklearn.feature_extraction.text import CountVectorizer, TfidfVectorizer\n",
    "from sklearn.model_selection import train_test_split\n",
    "from sklearn.naive_bayes import MultinomialNB\n",
    "from sklearn.metrics import accuracy_score\n",
    "\n",
    "# Load the dataset\n",
    "data = pd.read_csv(\"C:\\\\Users\\\\hp\\\\Documents\\\\abcnews-date-text.csv\")\n",
    "\n",
    "# Create a new column 'category' based on the year extracted from 'publish_date'\n",
    "data['category'] = pd.to_datetime(data['publish_date']).dt.year\n",
    "\n",
    "# Data Exploration\n",
    "print(\"Categories present in the dataset:\")\n",
    "print(data['category'].unique())\n",
    "\n",
    "print(\"\\nDistribution of articles across different topics:\")\n",
    "print(data['category'].value_counts())\n",
    "\n",
    "# Split the data into training and testing sets\n",
    "train_data, test_data, train_labels, test_labels = train_test_split(data['headline_text'], data['category'], test_size=0.2, random_state=42)\n",
    "\n",
    "# Bag-of-Words (BoW) with unigrams and bigrams\n",
    "vectorizer_unigram = CountVectorizer()\n",
    "X_train_unigram = vectorizer_unigram.fit_transform(train_data)\n",
    "X_test_unigram = vectorizer_unigram.transform(test_data)\n",
    "\n",
    "vectorizer_bigram = CountVectorizer(ngram_range=(2, 2))\n",
    "X_train_bigram = vectorizer_bigram.fit_transform(train_data)\n",
    "X_test_bigram = vectorizer_bigram.transform(test_data)\n",
    "\n",
    "# TF-IDF\n",
    "tfidf_vectorizer = TfidfVectorizer()\n",
    "X_train_tfidf = tfidf_vectorizer.fit_transform(train_data)\n",
    "X_test_tfidf = tfidf_vectorizer.transform(test_data)\n",
    "\n",
    "# Build a Naive Bayes classifier for each representation\n",
    "nb_classifier_unigram = MultinomialNB()\n",
    "nb_classifier_unigram.fit(X_train_unigram, train_labels)\n",
    "predictions_unigram = nb_classifier_unigram.predict(X_test_unigram)\n",
    "accuracy_unigram = accuracy_score(test_labels, predictions_unigram)\n",
    "print(\"\\nAccuracy using BoW with unigrams:\", accuracy_unigram)\n",
    "\n",
    "nb_classifier_bigram = MultinomialNB()\n",
    "nb_classifier_bigram.fit(X_train_bigram, train_labels)\n",
    "predictions_bigram = nb_classifier_bigram.predict(X_test_bigram)\n",
    "accuracy_bigram = accuracy_score(test_labels, predictions_bigram)\n",
    "print(\"Accuracy using BoW with bigrams:\", accuracy_bigram)\n",
    "\n",
    "nb_classifier_tfidf = MultinomialNB()\n",
    "nb_classifier_tfidf.fit(X_train_tfidf, train_labels)\n",
    "predictions_tfidf = nb_classifier_tfidf.predict(X_test_tfidf)\n",
    "accuracy_tfidf = accuracy_score(test_labels, predictions_tfidf)\n",
    "print(\"Accuracy using TF-IDF:\", accuracy_tfidf)\n",
    "\n",
    "# Insights and Recommendations\n",
    "print(\"\\nInsights and Recommendations:\")\n",
    "print(\"1. Bag-of-Words (BoW) with unigrams and bigrams:\")\n",
    "print(\"   - BoW with unigrams accuracy:\", accuracy_unigram)\n",
    "print(\"   - BoW with bigrams accuracy:\", accuracy_bigram)\n",
    "print(\"\\n2. TF-IDF:\")\n",
    "print(\"   - TF-IDF accuracy:\", accuracy_tfidf)\n",
    "print(\"\\n3. Recommendations:\")\n",
    "print(\"   - Depending on dataset characteristics, consider a combination of techniques.\")\n",
    "print(\"   - Experiment with different feature engineering strategies.\")\n",
    "print(\"   - Regularly update the model with new data to maintain relevance and accuracy.\")\n"
   ]
  },
  {
   "cell_type": "code",
   "execution_count": null,
   "id": "34378343",
   "metadata": {},
   "outputs": [],
   "source": []
  }
 ],
 "metadata": {
  "kernelspec": {
   "display_name": "Python 3 (ipykernel)",
   "language": "python",
   "name": "python3"
  },
  "language_info": {
   "codemirror_mode": {
    "name": "ipython",
    "version": 3
   },
   "file_extension": ".py",
   "mimetype": "text/x-python",
   "name": "python",
   "nbconvert_exporter": "python",
   "pygments_lexer": "ipython3",
   "version": "3.11.5"
  }
 },
 "nbformat": 4,
 "nbformat_minor": 5
}
