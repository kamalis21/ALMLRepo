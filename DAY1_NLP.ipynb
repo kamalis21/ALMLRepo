{
 "cells": [
  {
   "cell_type": "markdown",
   "id": "1d5a6efe",
   "metadata": {},
   "source": [
    "# what is the purpose of text processing in NLP,and why is it essentisal before analysis?"
   ]
  },
  {
   "cell_type": "code",
   "execution_count": null,
   "id": "d2e3a5be",
   "metadata": {},
   "outputs": [],
   "source": [
    "Noise Reduction: Text processing helps eliminate irrelevant or noisy elements from the data, ensuring that the analysis is focused on meaningful content.\n",
    "\n",
    "Consistency: Normalizing and cleaning the text ensures that the same words are represented in a consistent manner, reducing ambiguity and improving the reliability of analysis.\n",
    "\n",
    "Computational Efficiency: By preprocessing text, the data is often transformed into a more manageable format, reducing computational complexity during subsequent analysis.\n",
    "\n",
    "Improved Accuracy: Tokenization, normalization, and other text processing techniques contribute to more accurate and reliable analysis results by providing a structured and standardized representation of the text."
   ]
  },
  {
   "cell_type": "markdown",
   "id": "d1c136ce",
   "metadata": {},
   "source": [
    "# describe tokenization in NLP and explain its significance in text message?"
   ]
  },
  {
   "cell_type": "code",
   "execution_count": null,
   "id": "93f4aeca",
   "metadata": {},
   "outputs": [],
   "source": [
    "Tokenization is a fundamental process in Natural Language Processing (NLP) that involves breaking down a text into smaller units, typically words or phrases, referred to as tokens."
   ]
  },
  {
   "cell_type": "code",
   "execution_count": null,
   "id": "c3d31b21",
   "metadata": {},
   "outputs": [],
   "source": [
    "Definition: Word tokenization involves splitting a text into individual words. It is a common and basic form of tokenization.\n",
    "Example: The sentence \"Tokenization is essential for NLP\" would be tokenized into [\"Tokenization\", \"is\", \"essential\", \"for\", \"NLP\"]."
   ]
  },
  {
   "cell_type": "markdown",
   "id": "60b90261",
   "metadata": {},
   "source": [
    "# what are the difference between stemming and lemmalization in nlp? when would you choose one over the other?"
   ]
  },
  {
   "cell_type": "code",
   "execution_count": null,
   "id": "87f5180e",
   "metadata": {},
   "outputs": [],
   "source": [
    "\n",
    "Stemming:\n",
    "Definition:\n",
    "\n",
    "Stemming is the process of removing suffixes from words to obtain their root form or stem.\n",
    "It uses heuristics to chop off the ends of words, which may or may not result in a valid word or root.\n",
    "Example:\n",
    "\n",
    "For the word \"running,\" stemming might result in \"run.\"\n",
    "Lemmatization:\n",
    "Definition:\n",
    "\n",
    "Lemmatization is the process of reducing words to their base or root form by considering their meaning and context.\n",
    "It involves using a vocabulary and morphological analysis to get the base form of a word.\n",
    "Example:\n",
    "\n",
    "For the word \"better,\" lemmatization might result in \"good.\""
   ]
  },
  {
   "cell_type": "code",
   "execution_count": null,
   "id": "007d9a1f",
   "metadata": {},
   "outputs": [],
   "source": [
    "Speed and efficiency are critical, and a less accurate but faster normalization process is acceptable."
   ]
  },
  {
   "cell_type": "markdown",
   "id": "7444f845",
   "metadata": {},
   "source": [
    "# explain the concept  of stop words and their role in text preprocessing.how do thry impact nlp task"
   ]
  },
  {
   "cell_type": "code",
   "execution_count": null,
   "id": "e743ddac",
   "metadata": {},
   "outputs": [],
   "source": [
    "Stop words are commonly used words in a language that are generally considered to be of little value in terms of conveying meaningful information. These words, such as articles (\"the,\" \"a,\" \"an\"), prepositions (\"in,\" \"on,\" \"at\"), and conjunctions (\"and,\" \"but,\" \"or\"), are extremely common and appear frequently in texts. In the context of NLP, stop words are often removed during the text preprocessing phase for various reasons."
   ]
  },
  {
   "cell_type": "markdown",
   "id": "00cdac66",
   "metadata": {},
   "source": [
    "# How does the process of removing punctuation contribute to text preprocessing in NLP? what are its benefits?"
   ]
  },
  {
   "cell_type": "code",
   "execution_count": null,
   "id": "697486c4",
   "metadata": {},
   "outputs": [],
   "source": [
    "Noise Reduction\n",
    "Feature Reduction\n",
    "Improved Tokenization\n",
    "Efficient Analysis\n",
    "Compatibility with Models\n",
    "Text Normalization\n",
    "Improved Readability\n"
   ]
  },
  {
   "cell_type": "code",
   "execution_count": null,
   "id": "db47273e",
   "metadata": {},
   "outputs": [],
   "source": [
    "Discuss the importance  of lowercase conversion in the text processing.Why is it a common step in NLP tasks?"
   ]
  },
  {
   "cell_type": "code",
   "execution_count": null,
   "id": "181a8d7a",
   "metadata": {},
   "outputs": [],
   "source": []
  },
  {
   "cell_type": "code",
   "execution_count": null,
   "id": "52ce8b14",
   "metadata": {},
   "outputs": [],
   "source": []
  }
 ],
 "metadata": {
  "kernelspec": {
   "display_name": "Python 3 (ipykernel)",
   "language": "python",
   "name": "python3"
  },
  "language_info": {
   "codemirror_mode": {
    "name": "ipython",
    "version": 3
   },
   "file_extension": ".py",
   "mimetype": "text/x-python",
   "name": "python",
   "nbconvert_exporter": "python",
   "pygments_lexer": "ipython3",
   "version": "3.11.5"
  }
 },
 "nbformat": 4,
 "nbformat_minor": 5
}
