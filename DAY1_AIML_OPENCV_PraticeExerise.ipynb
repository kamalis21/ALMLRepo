{
 "cells": [
  {
   "cell_type": "code",
   "execution_count": 3,
   "id": "c61f3059",
   "metadata": {},
   "outputs": [
    {
     "name": "stdout",
     "output_type": "stream",
     "text": [
      "4.8.1\n"
     ]
    }
   ],
   "source": [
    "import cv2\n",
    "print(cv2.__version__)"
   ]
  },
  {
   "cell_type": "code",
   "execution_count": 4,
   "id": "a1a0ccc4",
   "metadata": {},
   "outputs": [
    {
     "name": "stdout",
     "output_type": "stream",
     "text": [
      "4.8.1\n"
     ]
    }
   ],
   "source": [
    "import cv2\n",
    "import numpy as np\n",
    "image=np.zeros((400,600,3),dtype=np.uint8)\n",
    "cv2.imshow(\"TestImages\",image)\n",
    "\n",
    "print(cv2.__version__)"
   ]
  },
  {
   "cell_type": "code",
   "execution_count": 6,
   "id": "07a7f6b6",
   "metadata": {},
   "outputs": [
    {
     "data": {
      "image/png": "[encoded data removed]",
      "text/plain": [
       "<Figure size 640x480 with 1 Axes>"
      ]
     },
     "metadata": {},
     "output_type": "display_data"
    },
    {
     "name": "stdout",
     "output_type": "stream",
     "text": [
      "4.8.1\n"
     ]
    }
   ],
   "source": [
    "import cv2\n",
    "import numpy as np\n",
    "import matplotlib.pyplot as plt\n",
    "\n",
    "image = np.zeros((400, 600, 3), dtype=np.uint8)\n",
    "\n",
    "\n",
    "plt.imshow(image)\n",
    "plt.title(\"Test Image\")\n",
    "plt.show()\n",
    "\n",
    "\n",
    "print(cv2.__version__)\n"
   ]
  },
  {
   "cell_type": "code",
   "execution_count": null,
   "id": "65542810",
   "metadata": {},
   "outputs": [],
   "source": []
  },
  {
   "cell_type": "code",
   "execution_count": 4,
   "id": "8c9a28bc",
   "metadata": {},
   "outputs": [],
   "source": [
    "import cv2\n",
    "import numpy as np\n",
    "image=np.zeros((100,80,3),dtype=np.uint8)\n",
    "\n",
    "cv2.circle(image, (400, 150), 50, (255, 0, 0), -1)\n",
    "cv2.imshow(\"TestImages3 for crashing\",image)\n",
    "\n",
    "cv2.waitKey(0)\n",
    "cv2.destroyAllWindows()"
   ]
  },
  {
   "cell_type": "code",
   "execution_count": 9,
   "id": "b93cd70a",
   "metadata": {},
   "outputs": [],
   "source": [
    "import cv2\n",
    "import numpy as np\n",
    "image=np.zeros((1400,800,3),dtype=np.uint8)\n",
    "cv2.line(image,(100,100),(50,50),(123,235,215),6)\n",
    "cv2.circle(image, (400, 150), 50, (255, 0, 0), 21)\n",
    "cv2.rectangle(image, (50, 100), (250, 200), (0, 0, 255), -90) \n",
    "cv2.imshow(\"TestImages3 for crashing\",image)\n",
    "\n",
    "cv2.waitKey(0)\n",
    "cv2.destroyAllWindows()"
   ]
  },
  {
   "cell_type": "code",
   "execution_count": 14,
   "id": "8d2f2153",
   "metadata": {},
   "outputs": [],
   "source": [
    "import tkinter as tk\n",
    "\n",
    "def create_circle(canvas, x, y, radius, **kwargs):\n",
    "    return canvas.create_oval(x - radius, y - radius, x + radius, y + radius, **kwargs)\n",
    "\n",
    "# Create the main window\n",
    "root = tk.Tk()\n",
    "root.title('Red Background with Rectangle and Circle')\n",
    "\n",
    "\n",
    "canvas = tk.Canvas(root, width=400, height=300, bg='white')\n",
    "canvas.pack()\n",
    "\n",
    "\n",
    "rectangle = canvas.create_rectangle(50, 50, 250, 200, fill='red')\n",
    "\n",
    "\n",
    "circle = create_circle(canvas, 150, 125, 50, fill='white')\n",
    "root.mainloop()\n"
   ]
  },
  {
   "cell_type": "code",
   "execution_count": 18,
   "id": "8804c862",
   "metadata": {},
   "outputs": [],
   "source": [
    "import cv2\n",
    "\n",
    "image = cv2.imread(\"C:\\\\Users\\\\hp\\\\Pictures\\\\pexels-pixabay-276374.jpg\")\n",
    "cvtd=cv2.cvtColor(image,cv2.COLOR_BGR2GRAY)\n",
    "cv2.imshow(\"Original Image\",image)\n",
    "cv2.imshow(\"Grayscale Image\",cvtd)\n",
    "cv2.waitKey(0)\n",
    "cv2.destroyAllWindows()\n"
   ]
  },
  {
   "cell_type": "code",
   "execution_count": null,
   "id": "0ee40cff",
   "metadata": {},
   "outputs": [],
   "source": [
    "import cv2\n",
    "\n",
    "image = cv2.imread(\"C:\\\\Users\\\\hp\\\\Pictures\\\\pexels-pixabay-276374.jpg\",cv2.IMREAD_GRAYSCALE)\n",
    "width,height=image.shape[:2]\n",
    "\n",
    "rotation_center=(width//2,height//2)\n",
    "rotation_angle=45 #in Degrees\n",
    "rotation_matrix = cv2.getRotationMatrix2D(rotation_center, rotation_angle, 1)  \n",
    "# 1 is the scale factor\n",
    "rotated_image = cv2.warpAffine(image, rotation_matrix, (width, height))\n",
    "\n",
    "cv2.imshow(\"Original Image\",image)\n",
    "cv2.imshow(\"Transformed Image\",rotated_image)\n",
    "cv2.waitKey(0)\n",
    "cv2.destroyAllWindows()"
   ]
  },
  {
   "cell_type": "code",
   "execution_count": null,
   "id": "58409dad",
   "metadata": {},
   "outputs": [],
   "source": [
    "import cv2\n",
    "\n",
    "# Path to the image\n",
    "image_path = r\"C:\\Users\\hp\\Pictures\\pexels-pixabay-276374.jpg\"\n",
    "\n",
    "# Read the original image\n",
    "original_image = cv2.imread(image_path)\n",
    "\n",
    "# Check if the image is loaded successfully\n",
    "if original_image is None:\n",
    "    print(f\"Error: Unable to load the image at '{image_path}'\")\n",
    "else:\n",
    "    # Display the original image\n",
    "    cv2.imshow(\"Original Image\", original_image)\n",
    "\n",
    "    scaled_width, scaled_height = 400, 300\n",
    "    scaled_image = cv2.resize(original_image, (scaled_width, scaled_height))\n",
    "    cv2.imshow(\"Scaled Image\", scaled_image)\n",
    "    cv2.waitKey(0)\n",
    "    cv2.destroyAllWindows()\n"
   ]
  },
  {
   "cell_type": "code",
   "execution_count": null,
   "id": "3620ac0e",
   "metadata": {},
   "outputs": [],
   "source": []
  }
 ],
 "metadata": {
  "kernelspec": {
   "display_name": "Python 3 (ipykernel)",
   "language": "python",
   "name": "python3"
  },
  "language_info": {
   "codemirror_mode": {
    "name": "ipython",
    "version": 3
   },
   "file_extension": ".py",
   "mimetype": "text/x-python",
   "name": "python",
   "nbconvert_exporter": "python",
   "pygments_lexer": "ipython3",
   "version": "3.11.5"
  }
 },
 "nbformat": 4,
 "nbformat_minor": 5
}
