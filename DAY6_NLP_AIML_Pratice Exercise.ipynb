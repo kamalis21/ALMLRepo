{
 "cells": [
  {
   "cell_type": "markdown",
   "id": "591e7f11",
   "metadata": {},
   "source": [
    "# Build a NLP Language model for text generation involves train a neural network to predict the next word in a sequence of words."
   ]
  },
  {
   "cell_type": "code",
   "execution_count": null,
   "id": "82aabfe7",
   "metadata": {},
   "outputs": [],
   "source": [
    "import tensorflow as tf\n",
    "from tensorflow.keras.models import Sequential\n",
    "from tensorflow.keras.layers import Embedding, LSTM, Dense\n",
    "\n",
    "# Assume 'text_data' is your training dataset, where each element is a sentence.\n",
    "\n",
    "# Tokenize the text data\n",
    "tokenizer = tf.keras.preprocessing.text.Tokenizer()\n",
    "tokenizer.fit_on_texts(text_data)\n",
    "total_words = len(tokenizer.word_index) + 1\n",
    "\n",
    "# Create input sequences and labels\n",
    "input_sequences = []\n",
    "for line in text_data:\n",
    "    token_list = tokenizer.texts_to_sequences([line])[0]\n",
    "    for i in range(1, len(token_list)):\n",
    "        n_gram_sequence = token_list[:i+1]\n",
    "        input_sequences.append(n_gram_sequence)\n",
    "\n",
    "max_sequence_length = max([len(seq) for seq in input_sequences])\n",
    "input_sequences = tf.keras.preprocessing.sequence.pad_sequences(input_sequences, maxlen=max_sequence_length, padding='pre')\n",
    "\n",
    "X, y = input_sequences[:, :-1], input_sequences[:, -1]\n",
    "y = tf.keras.utils.to_categorical(y, num_classes=total_words)\n",
    "\n",
    "# Build the model\n",
    "model = Sequential()\n",
    "model.add(Embedding(total_words, 100, input_length=max_sequence_length-1))\n",
    "model.add(LSTM(100))\n",
    "model.add(Dense(total_words, activation='softmax'))\n",
    "\n",
    "model.compile(optimizer='adam', loss='categorical_crossentropy', metrics=['accuracy'])\n",
    "\n",
    "# Train the model\n",
    "model.fit(X, y, epochs=50, verbose=1)\n",
    "\n",
    "# Generate text\n",
    "seed_text = \"The quick brown fox\"\n",
    "next_words = 10\n",
    "\n",
    "for _ in range(next_words):\n",
    "    token_list = tokenizer.texts_to_sequences([seed_text])[0]\n",
    "    token_list = tf.keras.preprocessing.sequence.pad_sequences([token_list], maxlen=max_sequence_length-1, padding='pre')\n",
    "    predicted = model.predict_classes(token_list, verbose=0)\n",
    "    output_word = \"\"\n",
    "    for word, index in tokenizer.word_index.items():\n",
    "        if index == predicted:\n",
    "            output_word = word\n",
    "            break\n",
    "    seed_text += \" \" + output_word\n",
    "\n",
    "print(seed_text)\n"
   ]
  },
  {
   "cell_type": "markdown",
   "id": "d92ca142",
   "metadata": {},
   "source": [
    "# Build a Speech to Text model."
   ]
  },
  {
   "cell_type": "code",
   "execution_count": null,
   "id": "8cab5c93",
   "metadata": {},
   "outputs": [],
   "source": [
    "import speech_recognition as sr\n",
    "\n",
    "def speech_to_text(audio_file_path):\n",
    "    # Initialize the recognizer\n",
    "    recognizer = sr.Recognizer()\n",
    "\n",
    "    # Load the audio file\n",
    "    with sr.AudioFile(audio_file_path) as source:\n",
    "        audio_data = recognizer.record(source)\n",
    "\n",
    "    try:\n",
    "        # Use Google Web Speech API for speech recognition\n",
    "        text = recognizer.recognize_google(audio_data)\n",
    "        print(\"Text from Speech: {}\".format(text))\n",
    "    except sr.UnknownValueError:\n",
    "        print(\"Speech Recognition could not understand audio.\")\n",
    "    except sr.RequestError as e:\n",
    "        print(\"Could not request results from Google Web Speech API; {0}\".format(e))\n",
    "\n",
    "# Replace 'your_audio_file.wav' with the path to your audio file\n",
    "speech_to_text('your_audio_file.wav')"
   ]
  },
  {
   "cell_type": "code",
   "execution_count": null,
   "id": "2205c997",
   "metadata": {},
   "outputs": [],
   "source": [
    "Build a Text to Speech model."
   ]
  },
  {
   "cell_type": "code",
   "execution_count": null,
   "id": "a3c95982",
   "metadata": {},
   "outputs": [],
   "source": [
    "from gtts import gTTS\n",
    "import os\n",
    "\n",
    "def text_to_speech(text, language='en', output_file='output.mp3'):\n",
    "    # Create a gTTS object\n",
    "    tts = gTTS(text=text, lang=language, slow=False)\n",
    "\n",
    "    # Save the audio file\n",
    "    tts.save(output_file)\n",
    "\n",
    "    # Play the generated audio (optional)\n",
    "    os.system(\"start \" + output_file)\n",
    "\n",
    "# Replace 'Hello, how are you?' with your desired text\n",
    "text_to_speech('Hello, how are you?')\n"
   ]
  },
  {
   "cell_type": "markdown",
   "id": "1cc286dc",
   "metadata": {},
   "source": [
    "# Build a NLP Language model to detect the sentence/word error in the text corpus."
   ]
  },
  {
   "cell_type": "code",
   "execution_count": null,
   "id": "779e0556",
   "metadata": {},
   "outputs": [],
   "source": [
    "from spellchecker import SpellChecker\n",
    "\n",
    "def detect_errors(text):\n",
    "    # Initialize the spell checker\n",
    "    spell = SpellChecker()\n",
    "\n",
    "    # Tokenize the text into words\n",
    "    words = text.split()\n",
    "\n",
    "    # Find misspelled words\n",
    "    misspelled = spell.unknown(words)\n",
    "\n",
    "    return misspelled\n",
    "\n",
    "# Example usage\n",
    "text = \"This is an exmaple sentence with some mistkes.\"\n",
    "errors = detect_errors(text)\n",
    "\n",
    "if errors:\n",
    "    print(\"Errors found:\", errors)\n",
    "else:\n",
    "    print(\"No errors detected.\")\n"
   ]
  },
  {
   "cell_type": "markdown",
   "id": "c078cf73",
   "metadata": {},
   "source": [
    "# Build a Language model to correct the error in the text"
   ]
  },
  {
   "cell_type": "code",
   "execution_count": null,
   "id": "7ea6c7e4",
   "metadata": {},
   "outputs": [],
   "source": []
  }
 ],
 "metadata": {
  "kernelspec": {
   "display_name": "Python 3 (ipykernel)",
   "language": "python",
   "name": "python3"
  },
  "language_info": {
   "codemirror_mode": {
    "name": "ipython",
    "version": 3
   },
   "file_extension": ".py",
   "mimetype": "text/x-python",
   "name": "python",
   "nbconvert_exporter": "python",
   "pygments_lexer": "ipython3",
   "version": "3.11.5"
  }
 },
 "nbformat": 4,
 "nbformat_minor": 5
}
